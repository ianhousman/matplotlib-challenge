{
 "cells": [
  {
   "cell_type": "code",
   "execution_count": null,
   "metadata": {},
   "outputs": [],
   "source": [
    "#    The Pymaceuticals Company treated over 200 mice with tumors using nine different drug regimens, and a placebo, to test \n",
    "# which treatment yields the best results when reducing tumor size. The treatment lasted 45 days, included mice of varying \n",
    "# age and weight, and a near 50/50 mix of both male and female mice.\n",
    "\n",
    "#    The four leading drug regimens were Capomulin, Ramicane, Infubinol, and Ceftamin, with Capomulin and Ramicane being\n",
    "# the best and nearly equally effective at reducing tumor size, followed by Infubinol and Ceftamin. One outlier existed within \n",
    "# the Infubinol data, however ignoring the outlier does not affect results for the top four drug regimens. The four best\n",
    "# regimens were chosen based off of final tumor volumes; lower final volumes meant the drug was more effective at reducing the\n",
    "# tumor's size.\n",
    "\n",
    "#    After observing the graph of Tumor Volume vs. Timepoint for the Capomulin treatment of mouse l509, it can be noted that\n",
    "# the drug regimen is highly effective at reducing tumor volume. At the start of the procedure, an initial flare of tumor size\n",
    "# can be seen over the first three weeks, which is normal among certain regimens. However, this is followed by a sharp decline\n",
    "# in tumor volume over the next three weeks with a couple small increases in size most likely coinciding with injections of \n",
    "# the Capomulin.\n",
    "\n",
    "#    The scatter plot showing Weight vs. Average Tumor Volume suggests that the larger mice typically have larger tumor sizes. \n",
    "# This should be expected since a larger weight means the mouse can 'support' a larger tumor, and also the tumors are adding\n",
    "# to the weight of the mouse. Therefore a directly proportional relationship exists between the weight of a mouse and its\n",
    "# tumor size."
   ]
  },
  {
   "cell_type": "code",
   "execution_count": 324,
   "metadata": {},
   "outputs": [
    {
     "data": {
      "text/html": [
       "<div>\n",
       "<style scoped>\n",
       "    .dataframe tbody tr th:only-of-type {\n",
       "        vertical-align: middle;\n",
       "    }\n",
       "\n",
       "    .dataframe tbody tr th {\n",
       "        vertical-align: top;\n",
       "    }\n",
       "\n",
       "    .dataframe thead th {\n",
       "        text-align: right;\n",
       "    }\n",
       "</style>\n",
       "<table border=\"1\" class=\"dataframe\">\n",
       "  <thead>\n",
       "    <tr style=\"text-align: right;\">\n",
       "      <th></th>\n",
       "      <th>Mouse ID</th>\n",
       "      <th>Drug Regimen</th>\n",
       "      <th>Sex</th>\n",
       "      <th>Age_months</th>\n",
       "      <th>Weight (g)</th>\n",
       "      <th>Timepoint</th>\n",
       "      <th>Tumor Volume (mm3)</th>\n",
       "      <th>Metastatic Sites</th>\n",
       "    </tr>\n",
       "  </thead>\n",
       "  <tbody>\n",
       "    <tr>\n",
       "      <td>0</td>\n",
       "      <td>k403</td>\n",
       "      <td>Ramicane</td>\n",
       "      <td>Male</td>\n",
       "      <td>21</td>\n",
       "      <td>16</td>\n",
       "      <td>0</td>\n",
       "      <td>45.000000</td>\n",
       "      <td>0</td>\n",
       "    </tr>\n",
       "    <tr>\n",
       "      <td>1</td>\n",
       "      <td>k403</td>\n",
       "      <td>Ramicane</td>\n",
       "      <td>Male</td>\n",
       "      <td>21</td>\n",
       "      <td>16</td>\n",
       "      <td>5</td>\n",
       "      <td>38.825898</td>\n",
       "      <td>0</td>\n",
       "    </tr>\n",
       "    <tr>\n",
       "      <td>2</td>\n",
       "      <td>k403</td>\n",
       "      <td>Ramicane</td>\n",
       "      <td>Male</td>\n",
       "      <td>21</td>\n",
       "      <td>16</td>\n",
       "      <td>10</td>\n",
       "      <td>35.014271</td>\n",
       "      <td>1</td>\n",
       "    </tr>\n",
       "    <tr>\n",
       "      <td>3</td>\n",
       "      <td>k403</td>\n",
       "      <td>Ramicane</td>\n",
       "      <td>Male</td>\n",
       "      <td>21</td>\n",
       "      <td>16</td>\n",
       "      <td>15</td>\n",
       "      <td>34.223992</td>\n",
       "      <td>1</td>\n",
       "    </tr>\n",
       "    <tr>\n",
       "      <td>4</td>\n",
       "      <td>k403</td>\n",
       "      <td>Ramicane</td>\n",
       "      <td>Male</td>\n",
       "      <td>21</td>\n",
       "      <td>16</td>\n",
       "      <td>20</td>\n",
       "      <td>32.997729</td>\n",
       "      <td>1</td>\n",
       "    </tr>\n",
       "  </tbody>\n",
       "</table>\n",
       "</div>"
      ],
      "text/plain": [
       "  Mouse ID Drug Regimen   Sex  Age_months  Weight (g)  Timepoint  \\\n",
       "0     k403     Ramicane  Male          21          16          0   \n",
       "1     k403     Ramicane  Male          21          16          5   \n",
       "2     k403     Ramicane  Male          21          16         10   \n",
       "3     k403     Ramicane  Male          21          16         15   \n",
       "4     k403     Ramicane  Male          21          16         20   \n",
       "\n",
       "   Tumor Volume (mm3)  Metastatic Sites  \n",
       "0           45.000000                 0  \n",
       "1           38.825898                 0  \n",
       "2           35.014271                 1  \n",
       "3           34.223992                 1  \n",
       "4           32.997729                 1  "
      ]
     },
     "execution_count": 324,
     "metadata": {},
     "output_type": "execute_result"
    }
   ],
   "source": [
    "#import dependencies\n",
    "import matplotlib.pyplot as plt\n",
    "import pandas as pd\n",
    "import scipy.stats as st\n",
    "from scipy.stats import linregress\n",
    "import numpy as np\n",
    "\n",
    "#point to files\n",
    "mouse_metadata = 'data/Mouse_metadata.csv'\n",
    "study_results = 'data/Study_results.csv'\n",
    "\n",
    "#read csv files\n",
    "mouse_metadata = pd.read_csv(mouse_metadata)\n",
    "study_results = pd.read_csv(study_results)\n",
    "\n",
    "#combine data into a single dataset\n",
    "merged_df = pd.merge(mouse_metadata, study_results)\n",
    "merged_df.head()"
   ]
  },
  {
   "cell_type": "code",
   "execution_count": 155,
   "metadata": {},
   "outputs": [
    {
     "data": {
      "text/html": [
       "<div>\n",
       "<style scoped>\n",
       "    .dataframe tbody tr th:only-of-type {\n",
       "        vertical-align: middle;\n",
       "    }\n",
       "\n",
       "    .dataframe tbody tr th {\n",
       "        vertical-align: top;\n",
       "    }\n",
       "\n",
       "    .dataframe thead th {\n",
       "        text-align: right;\n",
       "    }\n",
       "</style>\n",
       "<table border=\"1\" class=\"dataframe\">\n",
       "  <thead>\n",
       "    <tr style=\"text-align: right;\">\n",
       "      <th></th>\n",
       "      <th>Mean Tumor Volume</th>\n",
       "      <th>Median Tumor Volume</th>\n",
       "      <th>Tumor Volume Variance</th>\n",
       "      <th>Tumor Volume Std. Dev.</th>\n",
       "      <th>Tumor Volume Std. Err.</th>\n",
       "    </tr>\n",
       "    <tr>\n",
       "      <th>Drug Regimen</th>\n",
       "      <th></th>\n",
       "      <th></th>\n",
       "      <th></th>\n",
       "      <th></th>\n",
       "      <th></th>\n",
       "    </tr>\n",
       "  </thead>\n",
       "  <tbody>\n",
       "    <tr>\n",
       "      <td>[Capomulin]</td>\n",
       "      <td>40.675741</td>\n",
       "      <td>41.557809</td>\n",
       "      <td>24.947764</td>\n",
       "      <td>4.994774</td>\n",
       "      <td>0.329346</td>\n",
       "    </tr>\n",
       "    <tr>\n",
       "      <td>[Ceftamin]</td>\n",
       "      <td>52.591172</td>\n",
       "      <td>51.776157</td>\n",
       "      <td>39.290177</td>\n",
       "      <td>6.268188</td>\n",
       "      <td>0.469821</td>\n",
       "    </tr>\n",
       "    <tr>\n",
       "      <td>[Infubinol]</td>\n",
       "      <td>52.884795</td>\n",
       "      <td>51.820584</td>\n",
       "      <td>43.128684</td>\n",
       "      <td>6.567243</td>\n",
       "      <td>0.492236</td>\n",
       "    </tr>\n",
       "    <tr>\n",
       "      <td>[Ketapril]</td>\n",
       "      <td>55.235638</td>\n",
       "      <td>53.698743</td>\n",
       "      <td>68.553577</td>\n",
       "      <td>8.279709</td>\n",
       "      <td>0.603860</td>\n",
       "    </tr>\n",
       "    <tr>\n",
       "      <td>[Naftisol]</td>\n",
       "      <td>54.331565</td>\n",
       "      <td>52.509285</td>\n",
       "      <td>66.173479</td>\n",
       "      <td>8.134708</td>\n",
       "      <td>0.596466</td>\n",
       "    </tr>\n",
       "    <tr>\n",
       "      <td>[Placebo]</td>\n",
       "      <td>54.033581</td>\n",
       "      <td>52.288934</td>\n",
       "      <td>61.168083</td>\n",
       "      <td>7.821003</td>\n",
       "      <td>0.581331</td>\n",
       "    </tr>\n",
       "    <tr>\n",
       "      <td>[Propriva]</td>\n",
       "      <td>52.322552</td>\n",
       "      <td>50.854632</td>\n",
       "      <td>42.351070</td>\n",
       "      <td>6.507770</td>\n",
       "      <td>0.512884</td>\n",
       "    </tr>\n",
       "    <tr>\n",
       "      <td>[Ramicane]</td>\n",
       "      <td>40.216745</td>\n",
       "      <td>40.673236</td>\n",
       "      <td>23.486704</td>\n",
       "      <td>4.846308</td>\n",
       "      <td>0.320955</td>\n",
       "    </tr>\n",
       "    <tr>\n",
       "      <td>[Stelasyn]</td>\n",
       "      <td>54.233149</td>\n",
       "      <td>52.431737</td>\n",
       "      <td>59.450562</td>\n",
       "      <td>7.710419</td>\n",
       "      <td>0.573111</td>\n",
       "    </tr>\n",
       "    <tr>\n",
       "      <td>[Zoniferol]</td>\n",
       "      <td>53.236507</td>\n",
       "      <td>51.818479</td>\n",
       "      <td>48.533355</td>\n",
       "      <td>6.966589</td>\n",
       "      <td>0.516398</td>\n",
       "    </tr>\n",
       "  </tbody>\n",
       "</table>\n",
       "</div>"
      ],
      "text/plain": [
       "              Mean Tumor Volume  Median Tumor Volume  Tumor Volume Variance  \\\n",
       "Drug Regimen                                                                  \n",
       "[Capomulin]           40.675741            41.557809              24.947764   \n",
       "[Ceftamin]            52.591172            51.776157              39.290177   \n",
       "[Infubinol]           52.884795            51.820584              43.128684   \n",
       "[Ketapril]            55.235638            53.698743              68.553577   \n",
       "[Naftisol]            54.331565            52.509285              66.173479   \n",
       "[Placebo]             54.033581            52.288934              61.168083   \n",
       "[Propriva]            52.322552            50.854632              42.351070   \n",
       "[Ramicane]            40.216745            40.673236              23.486704   \n",
       "[Stelasyn]            54.233149            52.431737              59.450562   \n",
       "[Zoniferol]           53.236507            51.818479              48.533355   \n",
       "\n",
       "              Tumor Volume Std. Dev.  Tumor Volume Std. Err.  \n",
       "Drug Regimen                                                  \n",
       "[Capomulin]                 4.994774                0.329346  \n",
       "[Ceftamin]                  6.268188                0.469821  \n",
       "[Infubinol]                 6.567243                0.492236  \n",
       "[Ketapril]                  8.279709                0.603860  \n",
       "[Naftisol]                  8.134708                0.596466  \n",
       "[Placebo]                   7.821003                0.581331  \n",
       "[Propriva]                  6.507770                0.512884  \n",
       "[Ramicane]                  4.846308                0.320955  \n",
       "[Stelasyn]                  7.710419                0.573111  \n",
       "[Zoniferol]                 6.966589                0.516398  "
      ]
     },
     "execution_count": 155,
     "metadata": {},
     "output_type": "execute_result"
    }
   ],
   "source": [
    "#Generate a 'Summary Statistics' table of tumor volume for each regimen\n",
    "\n",
    "#Grouping the data by regimen\n",
    "regimen_group = merged_df.groupby('Drug Regimen')\n",
    "regimens = regimen_group[\"Drug Regimen\"].unique()\n",
    "\n",
    "#Calculating summary statistics of tumor size for each regimen\n",
    "mean_tumor = regimen_group['Tumor Volume (mm3)'].mean()\n",
    "mean = []\n",
    "for x in mean_tumor:\n",
    "    mean.append(x)\n",
    "median_tumor = regimen_group['Tumor Volume (mm3)'].median()\n",
    "median = []\n",
    "for x in median_tumor:\n",
    "    median.append(x)\n",
    "var_tumor = regimen_group['Tumor Volume (mm3)'].var()\n",
    "variance = []\n",
    "for x in var_tumor:\n",
    "    variance.append(x)\n",
    "std_tumor = regimen_group['Tumor Volume (mm3)'].std()\n",
    "stddev = []\n",
    "for x in std_tumor:\n",
    "    stddev.append(x)\n",
    "sem_tumor = regimen_group['Tumor Volume (mm3)'].sem()\n",
    "sem = []\n",
    "for x in sem_tumor:\n",
    "    sem.append(x)\n",
    "\n",
    "#Creating the dataframe\n",
    "sum_stat = {\"Mean Tumor Volume\": mean, \"Median Tumor Volume\": median, \"Tumor Volume Variance\": variance, \n",
    "           \"Tumor Volume Std. Dev.\": stddev, \"Tumor Volume Std. Err.\": sem}\n",
    "sum_stat_df = pd.DataFrame(sum_stat).set_index(regimens)\n",
    "sum_stat_df"
   ]
  },
  {
   "cell_type": "code",
   "execution_count": 126,
   "metadata": {},
   "outputs": [
    {
     "data": {
      "image/png": "[encoded data removed]",
      "text/plain": [
       "<Figure size 432x288 with 1 Axes>"
      ]
     },
     "metadata": {
      "needs_background": "light"
     },
     "output_type": "display_data"
    }
   ],
   "source": [
    "#Generate a bar plot showing the number of data points for each treatment regimen using PANDAS\n",
    "\n",
    "regimen_counts_df = regimen_group.count()\n",
    "regimen_bargraph = regimen_counts_df['Mouse ID']\n",
    "regimen_bargraph.plot(kind='bar', alpha=0.75, rot=45)\n",
    "plt.xlabel(\"Drug Regimen\")\n",
    "plt.ylabel(\"Number of Data Points\")\n",
    "plt.show()"
   ]
  },
  {
   "cell_type": "code",
   "execution_count": 125,
   "metadata": {},
   "outputs": [
    {
     "data": {
      "image/png": "[encoded data removed]",
      "text/plain": [
       "<Figure size 432x288 with 1 Axes>"
      ]
     },
     "metadata": {
      "needs_background": "light"
     },
     "output_type": "display_data"
    }
   ],
   "source": [
    "#Generate the same bar graph using PYPLOT\n",
    "\n",
    "x_axis = np.arange(len(regimens))\n",
    "xticks = [value for value in x_axis]\n",
    "datapoints = []\n",
    "for x in regimen_bargraph:\n",
    "    datapoints.append(x)\n",
    "plt.bar(x_axis, datapoints, alpha=0.75, align='center')\n",
    "plt.xticks(xticks, regimens, rotation=45)\n",
    "plt.xlabel(\"Drug Regimen\")\n",
    "plt.ylabel(\"Number of Data Points\")\n",
    "plt.show()"
   ]
  },
  {
   "cell_type": "code",
   "execution_count": 151,
   "metadata": {},
   "outputs": [
    {
     "data": {
      "image/png": "[encoded data removed]",
      "text/plain": [
       "<Figure size 432x288 with 1 Axes>"
      ]
     },
     "metadata": {},
     "output_type": "display_data"
    }
   ],
   "source": [
    "#Generate a pie plot showing male vs. female distribution using PANDAS\n",
    "\n",
    "gender_group = merged_df.groupby('Sex')\n",
    "gender_counts = gender_group.count()\n",
    "gender_piegraph = gender_counts['Mouse ID']\n",
    "gender_piegraph.plot(kind='pie', autopct=\"%0.1f%%\")\n",
    "plt.ylabel('Sex')\n",
    "plt.show()"
   ]
  },
  {
   "cell_type": "code",
   "execution_count": 129,
   "metadata": {},
   "outputs": [
    {
     "data": {
      "image/png": "[encoded data removed]",
      "text/plain": [
       "<Figure size 432x288 with 1 Axes>"
      ]
     },
     "metadata": {},
     "output_type": "display_data"
    }
   ],
   "source": [
    "#Generate the same pie plot using PYPLOT\n",
    "\n",
    "plt.pie(gender_piegraph, autopct=\"%.1f%%\", labels=[\"Female\", \"Male\"])\n",
    "plt.axis(\"equal\")\n",
    "plt.ylabel(\"Sex\")\n",
    "plt.show()"
   ]
  },
  {
   "cell_type": "code",
   "execution_count": 201,
   "metadata": {},
   "outputs": [
    {
     "name": "stdout",
     "output_type": "stream",
     "text": [
      "The IQR for Capomulin is 7.781863460000004.\n",
      "\n",
      "The final volumes are [23.34359787, 28.43096411, 28.48403281, 30.48598484, 31.02392294, 31.896238399999998, 32.37735684, 33.32909778, 34.45529799, 36.04104736, 37.07402422, 37.31184577, 38.125164399999996, 38.75326548, 38.84687569, 38.93963263, 38.98287774, 39.95234669, 40.1592203, 40.65812366, 40.72857787, 41.48300765, 41.58152074, 46.53920617, 47.68596303].\n",
      "\n",
      "Values below 20.70456164999999 or above 51.83201549 could be outliers.\n"
     ]
    }
   ],
   "source": [
    "# Calculate the final tumor volume of each mouse across four of the most promising treatment regimens.\n",
    "\n",
    "capomulin_finals = merged_df[merged_df['Drug Regimen'] == 'Capomulin'].groupby('Mouse ID').last()\n",
    "cap_finals = []\n",
    "for x in capomulin_finals['Tumor Volume (mm3)']:\n",
    "    cap_finals.append(x)\n",
    "\n",
    "ramicane_finals = merged_df[merged_df['Drug Regimen'] == 'Ramicane'].groupby('Mouse ID').last()\n",
    "ram_finals = []\n",
    "for x in ramicane_finals['Tumor Volume (mm3)']:\n",
    "    ram_finals.append(x)\n",
    "\n",
    "infubinol_finals = merged_df[merged_df['Drug Regimen'] == 'Infubinol'].groupby('Mouse ID').last()\n",
    "inf_finals = []\n",
    "for x in infubinol_finals['Tumor Volume (mm3)']:\n",
    "    inf_finals.append(x)\n",
    "\n",
    "ceftamin_finals = merged_df[merged_df['Drug Regimen'] == 'Ceftamin'].groupby('Mouse ID').last()\n",
    "cef_finals = []\n",
    "for x in ceftamin_finals['Tumor Volume (mm3)']:\n",
    "    cef_finals.append(x)\n",
    "\n",
    "# Calculate the Interquartile range and quantitatively determine if there are any potential outliers.\n",
    "\n",
    "cap_series = pd.Series(cap_finals)\n",
    "cap_quartiles = cap_series.quantile([0.25, 0.5, 0.75])\n",
    "cap_lowerq = cap_quartiles[0.25]\n",
    "cap_upperq = cap_quartiles[0.75]\n",
    "cap_iqr = cap_upperq - cap_lowerq\n",
    "cap_finals.sort()\n",
    "cap_lowerb = cap_lowerq - (1.5*cap_iqr)\n",
    "cap_upperb = cap_upperq + (1.5*cap_iqr)\n",
    "print(f\"\"\"The IQR for Capomulin is {cap_iqr}.\n",
    "\n",
    "The final volumes are {cap_finals}.\n",
    "\n",
    "Values below {cap_lowerb} or above {cap_upperb} could be outliers.\"\"\")"
   ]
  },
  {
   "cell_type": "code",
   "execution_count": 200,
   "metadata": {},
   "outputs": [
    {
     "name": "stdout",
     "output_type": "stream",
     "text": [
      "The IQR for Ramicane is 9.098536719999998.\n",
      "\n",
      "The final volumes are [22.05012627, 29.12847181, 30.27623175, 30.56462509, 30.63869575, 31.09533505, 31.56046955, 32.97852192, 33.39765251, 33.56240217, 36.13485243, 36.37451039, 36.56165229, 37.22565033, 37.31123552, 38.34200823, 38.407618299999996, 38.81036633, 40.65900627, 40.66771292, 43.04754260000001, 43.16637266, 43.41938077, 44.18345092, 45.22086888].\n",
      "\n",
      "Values below 17.912664470000003 or above 54.30681135 could be outliers.\n"
     ]
    }
   ],
   "source": [
    "ram_series = pd.Series(ram_finals)\n",
    "ram_quartiles = ram_series.quantile([0.25, 0.5, 0.75])\n",
    "ram_lowerq = ram_quartiles[0.25]\n",
    "ram_upperq = ram_quartiles[0.75]\n",
    "ram_iqr = ram_upperq - ram_lowerq\n",
    "ram_finals.sort()\n",
    "ram_lowerb = ram_lowerq - (1.5*ram_iqr)\n",
    "ram_upperb = ram_upperq + (1.5*ram_iqr)\n",
    "print(f\"\"\"The IQR for Ramicane is {ram_iqr}.\n",
    "\n",
    "The final volumes are {ram_finals}.\n",
    "\n",
    "Values below {ram_lowerb} or above {ram_upperb} could be outliers.\"\"\")"
   ]
  },
  {
   "cell_type": "code",
   "execution_count": 199,
   "metadata": {},
   "outputs": [
    {
     "name": "stdout",
     "output_type": "stream",
     "text": [
      "The IQR for Infubinol is 11.477135160000003.\n",
      "\n",
      "The final volumes are [36.321345799999996, 45.69933088, 46.25011212, 47.01036401, 50.00513807, 51.54243058, 54.04860769, 54.65654872, 55.62942846, 55.65068132, 57.03186187, 58.26844248, 60.16518046, 60.91876652, 60.96971133, 62.11727887, 62.43540402, 62.75445141, 65.52574285, 66.08306589, 66.19691151, 67.28962147, 67.68556862, 67.97341878, 72.2267309].\n",
      "\n",
      "Values below 36.83290494999999 or above 82.74144559000001 could be outliers.\n"
     ]
    }
   ],
   "source": [
    "inf_series = pd.Series(inf_finals)\n",
    "inf_quartiles = inf_series.quantile([0.25, 0.5, 0.75])\n",
    "inf_lowerq = inf_quartiles[0.25]\n",
    "inf_upperq = inf_quartiles[0.75]\n",
    "inf_iqr = inf_upperq - inf_lowerq\n",
    "inf_finals.sort()\n",
    "inf_lowerb = inf_lowerq - (1.5*inf_iqr)\n",
    "inf_upperb = inf_upperq + (1.5*inf_iqr)\n",
    "print(f\"\"\"The IQR for Infubinol is {inf_iqr}.\n",
    "\n",
    "The final volumes are {inf_finals}.\n",
    "\n",
    "Values below {inf_lowerb} or above {inf_upperb} could be outliers.\"\"\")"
   ]
  },
  {
   "cell_type": "code",
   "execution_count": 198,
   "metadata": {},
   "outputs": [
    {
     "name": "stdout",
     "output_type": "stream",
     "text": [
      "The IQR for Ceftamin is 15.577752179999997.\n",
      "\n",
      "The final volumes are [45.0, 45.0, 45.0, 45.0, 46.78453491, 47.784681799999994, 48.72207785, 52.92534846, 55.74282869, 56.05774909, 57.91838132, 59.74190064, 59.85195552, 61.38666032, 61.43389223, 61.84902336, 62.99935619, 64.19234114, 64.29983003, 64.63494887, 64.72983655, 67.52748237, 67.74866174, 68.59474498, 68.92318457].\n",
      "\n",
      "Values below 25.355449580000002 or above 87.66645829999999 could be outliers.\n"
     ]
    }
   ],
   "source": [
    "cef_series = pd.Series(cef_finals)\n",
    "cef_quartiles = cef_series.quantile([0.25, 0.5, 0.75])\n",
    "cef_lowerq = cef_quartiles[0.25]\n",
    "cef_upperq = cef_quartiles[0.75]\n",
    "cef_iqr = cef_upperq - cef_lowerq\n",
    "cef_finals.sort()\n",
    "cef_lowerb = cef_lowerq - (1.5*cef_iqr)\n",
    "cef_upperb = cef_upperq + (1.5*cef_iqr)\n",
    "print(f\"\"\"The IQR for Ceftamin is {cef_iqr}.\n",
    "\n",
    "The final volumes are {cef_finals}.\n",
    "\n",
    "Values below {cef_lowerb} or above {cef_upperb} could be outliers.\"\"\")"
   ]
  },
  {
   "cell_type": "code",
   "execution_count": 204,
   "metadata": {},
   "outputs": [
    {
     "data": {
      "image/png": "[encoded data removed]",
      "text/plain": [
       "<Figure size 432x288 with 1 Axes>"
      ]
     },
     "metadata": {
      "needs_background": "light"
     },
     "output_type": "display_data"
    }
   ],
   "source": [
    "#Generate a box plot of the final tumor volume of each mouse across four regimens of interest\n",
    "\n",
    "fig1, ax1 = plt.subplots()\n",
    "ax1.set_ylabel(\"Final Tumor Volume (mm3)\")\n",
    "ax1.boxplot([cap_finals, ram_finals, inf_finals, cef_finals])\n",
    "plt.xticks([1, 2, 3, 4], ['Capomulin', 'Ramicane', 'Infubinol', 'Ceftamin'])\n",
    "plt.show()"
   ]
  },
  {
   "cell_type": "code",
   "execution_count": 229,
   "metadata": {},
   "outputs": [
    {
     "data": {
      "image/png": "[encoded data removed]",
      "text/plain": [
       "<Figure size 432x288 with 1 Axes>"
      ]
     },
     "metadata": {
      "needs_background": "light"
     },
     "output_type": "display_data"
    }
   ],
   "source": [
    "#Generate a line plot of time point versus tumor volume for a mouse treated with Capomulin (Mouse ID = I509)\n",
    "\n",
    "l509_df = merged_df.loc['l509']\n",
    "line_graph = l509_df.plot.line(x='Timepoint', y='Tumor Volume (mm3)')\n",
    "plt.title(\"Capomulin Treatment of Mouse l509\")\n",
    "plt.xlabel(\"Timepoint (days)\")\n",
    "plt.ylabel(\"Tumor Volume (mm3)\")\n",
    "plt.show()"
   ]
  },
  {
   "cell_type": "code",
   "execution_count": 318,
   "metadata": {},
   "outputs": [
    {
     "data": {
      "image/png": "[encoded data removed]",
      "text/plain": [
       "<Figure size 432x288 with 1 Axes>"
      ]
     },
     "metadata": {
      "needs_background": "light"
     },
     "output_type": "display_data"
    }
   ],
   "source": [
    "#Generate a scatter plot of mouse weight versus average tumor volume for the Capomulin regimen\n",
    "\n",
    "#Getting the desired dataframe\n",
    "merged_df2 = pd.merge(mouse_metadata, study_results)\n",
    "drug_index = merged_df2.set_index('Drug Regimen')\n",
    "cap_mice = drug_index.loc['Capomulin']\n",
    "\n",
    "#Collecting x and y axes from dataframe\n",
    "avg_tumors = cap_mice.groupby('Mouse ID')['Tumor Volume (mm3)'].mean()\n",
    "weights = cap_mice.groupby('Mouse ID')['Weight (g)'].last()\n",
    "\n",
    "#Creating the scatter plot\n",
    "scatter_graph = plt.scatter(weights, avg_tumors, marker=\"o\", facecolor=\"blue\", alpha=0.75)\n",
    "plt.xlabel(\"Weight (g)\")\n",
    "plt.ylabel(\"Average Tumor Volume (mm3)\")\n",
    "plt.show()"
   ]
  },
  {
   "cell_type": "code",
   "execution_count": 322,
   "metadata": {},
   "outputs": [
    {
     "name": "stdout",
     "output_type": "stream",
     "text": [
      "The correlation between mouse weight and the average tumor volume is 0.84\n"
     ]
    }
   ],
   "source": [
    "#Calculate the correlation coefficient and linear regression model for \n",
    "#mouse weight and average tumor volume for the Capomulin regimen\n",
    "\n",
    "correlation = st.pearsonr(weights, avg_tumors)\n",
    "print(f\"The correlation between mouse weight and the average tumor volume is {round(correlation[0],2)}\")"
   ]
  },
  {
   "cell_type": "code",
   "execution_count": 325,
   "metadata": {},
   "outputs": [
    {
     "data": {
      "image/png": "[encoded data removed]",
      "text/plain": [
       "<Figure size 432x288 with 1 Axes>"
      ]
     },
     "metadata": {
      "needs_background": "light"
     },
     "output_type": "display_data"
    }
   ],
   "source": [
    "(slope, intercept, rvalue, pvalue, stderr) = linregress(weights, avg_tumors)\n",
    "regress_values = weights * slope + intercept\n",
    "\n",
    "scatter_graph = plt.scatter(weights, avg_tumors, marker=\"o\", facecolor=\"blue\", alpha=0.75)\n",
    "plt.plot(weights,regress_values,\"r-\")\n",
    "plt.xlabel(\"Weight (g)\")\n",
    "plt.ylabel(\"Average Tumor Volume (mm3)\")\n",
    "plt.show()"
   ]
  },
  {
   "cell_type": "code",
   "execution_count": null,
   "metadata": {},
   "outputs": [],
   "source": []
  }
 ],
 "metadata": {
  "kernelspec": {
   "display_name": "Python 3",
   "language": "python",
   "name": "python3"
  },
  "language_info": {
   "codemirror_mode": {
    "name": "ipython",
    "version": 3
   },
   "file_extension": ".py",
   "mimetype": "text/x-python",
   "name": "python",
   "nbconvert_exporter": "python",
   "pygments_lexer": "ipython3",
   "version": "3.7.4"
  }
 },
 "nbformat": 4,
 "nbformat_minor": 2
}
